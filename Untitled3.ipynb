{
 "cells": [
  {
   "cell_type": "code",
   "execution_count": 1,
   "id": "70777941",
   "metadata": {},
   "outputs": [],
   "source": [
    "import rpa as r"
   ]
  },
  {
   "cell_type": "code",
   "execution_count": null,
   "id": "f625734f",
   "metadata": {},
   "outputs": [],
   "source": []
  },
  {
   "cell_type": "code",
   "execution_count": 14,
   "id": "47f1bc3e",
   "metadata": {},
   "outputs": [
    {
     "name": "stdout",
     "output_type": "stream",
     "text": [
      "Нож (праслав. *nožь от *noziti — «протыкать[1]; пронзать[2]») — прежде всего колющий (исходя из этимологии слова), а также рубящий, режущий инструмент, рабочей частью которого является клинок — полоса твёрдого материала (обычно металла) с лезвием на одной или нескольких сторонах. В конструкции, чаще всего, можно выделить клинок и рукоять. У клинка может быть выраженное колющее остриё.\n"
     ]
    }
   ],
   "source": [
    "r.init()\n",
    "r.url('https://ru.wikipedia.org/')\n",
    "r.type('//*[@name=\"search\"]', 'нож[enter]')\n",
    "print(r.read('p'))\n",
    "r.snap('page', 'results.png')\n",
    "r.close()"
   ]
  },
  {
   "cell_type": "code",
   "execution_count": null,
   "id": "fc18b6d8",
   "metadata": {},
   "outputs": [],
   "source": []
  }
 ],
 "metadata": {
  "kernelspec": {
   "display_name": "Python 3 (ipykernel)",
   "language": "python",
   "name": "python3"
  },
  "language_info": {
   "codemirror_mode": {
    "name": "ipython",
    "version": 3
   },
   "file_extension": ".py",
   "mimetype": "text/x-python",
   "name": "python",
   "nbconvert_exporter": "python",
   "pygments_lexer": "ipython3",
   "version": "3.7.3"
  }
 },
 "nbformat": 4,
 "nbformat_minor": 5
}
