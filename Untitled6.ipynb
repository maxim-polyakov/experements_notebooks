{
 "cells": [
  {
   "cell_type": "code",
   "execution_count": 47,
   "id": "0b2b1789",
   "metadata": {},
   "outputs": [
    {
     "name": "stdout",
     "output_type": "stream",
     "text": [
      "-2/x**3\n"
     ]
    }
   ],
   "source": [
    "from sympy import *\n",
    "#import numpy as np\n",
    "\n",
    "x = Symbol('x')\n",
    "y = sympify(\"x^4/x^6\")\n",
    "\n",
    "yprime = y.diff(x)\n",
    "print((str(yprime)))"
   ]
  },
  {
   "cell_type": "code",
   "execution_count": 16,
   "id": "6da3fe48",
   "metadata": {},
   "outputs": [
    {
     "name": "stdout",
     "output_type": "stream",
     "text": [
      "1 + x + x**2/2 + O(x**4)\n"
     ]
    }
   ],
   "source": [
    "expr = exp(sin(x))\n",
    "a = expr.series(x, 0, 4)\n",
    "print(a)"
   ]
  },
  {
   "cell_type": "code",
   "execution_count": null,
   "id": "0bb336d9",
   "metadata": {},
   "outputs": [],
   "source": []
  }
 ],
 "metadata": {
  "kernelspec": {
   "display_name": "Python 3 (ipykernel)",
   "language": "python",
   "name": "python3"
  },
  "language_info": {
   "codemirror_mode": {
    "name": "ipython",
    "version": 3
   },
   "file_extension": ".py",
   "mimetype": "text/x-python",
   "name": "python",
   "nbconvert_exporter": "python",
   "pygments_lexer": "ipython3",
   "version": "3.8.5"
  }
 },
 "nbformat": 4,
 "nbformat_minor": 5
}
