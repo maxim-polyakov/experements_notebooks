{
 "cells": [
  {
   "cell_type": "code",
   "execution_count": 10,
   "id": "2e907ab6",
   "metadata": {},
   "outputs": [
    {
     "data": {
      "text/plain": [
       "True"
      ]
     },
     "execution_count": 10,
     "metadata": {},
     "output_type": "execute_result"
    }
   ],
   "source": [
    "import rpa as r\n",
    "\n",
    "inptmes = \"6*sin(x) - x\"\n",
    "r.init(visual_automation = False, chrome_browser = True)\n",
    "r.url('https://www.wolframalpha.com/')\n",
    "r.type('//*[@class=\"_2Ejx\"]', 'd('+ inptmes + ')' + '/dx' + '[enter]')\n",
    "r.snap('//*[@class = \"_3fR4\"]', 'results.png')\n",
    "r.close()"
   ]
  },
  {
   "cell_type": "code",
   "execution_count": null,
   "id": "b5211ce6",
   "metadata": {},
   "outputs": [],
   "source": []
  },
  {
   "cell_type": "code",
   "execution_count": null,
   "id": "81126935",
   "metadata": {},
   "outputs": [],
   "source": []
  }
 ],
 "metadata": {
  "kernelspec": {
   "display_name": "Python 3 (ipykernel)",
   "language": "python",
   "name": "python3"
  },
  "language_info": {
   "codemirror_mode": {
    "name": "ipython",
    "version": 3
   },
   "file_extension": ".py",
   "mimetype": "text/x-python",
   "name": "python",
   "nbconvert_exporter": "python",
   "pygments_lexer": "ipython3",
   "version": "3.8.5"
  }
 },
 "nbformat": 4,
 "nbformat_minor": 5
}
